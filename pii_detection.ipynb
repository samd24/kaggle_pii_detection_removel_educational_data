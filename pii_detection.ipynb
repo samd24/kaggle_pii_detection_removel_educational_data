{
 "cells": [
  {
   "cell_type": "code",
   "execution_count": 1,
   "metadata": {},
   "outputs": [],
   "source": [
    "%%capture\n",
    "!pip3 install pandas\n"
   ]
  },
  {
   "cell_type": "code",
   "execution_count": 2,
   "metadata": {},
   "outputs": [
    {
     "data": {
      "text/html": [
       "<div>\n",
       "<style scoped>\n",
       "    .dataframe tbody tr th:only-of-type {\n",
       "        vertical-align: middle;\n",
       "    }\n",
       "\n",
       "    .dataframe tbody tr th {\n",
       "        vertical-align: top;\n",
       "    }\n",
       "\n",
       "    .dataframe thead th {\n",
       "        text-align: right;\n",
       "    }\n",
       "</style>\n",
       "<table border=\"1\" class=\"dataframe\">\n",
       "  <thead>\n",
       "    <tr style=\"text-align: right;\">\n",
       "      <th></th>\n",
       "      <th>document</th>\n",
       "      <th>full_text</th>\n",
       "      <th>tokens</th>\n",
       "      <th>trailing_whitespace</th>\n",
       "      <th>labels</th>\n",
       "    </tr>\n",
       "  </thead>\n",
       "  <tbody>\n",
       "    <tr>\n",
       "      <th>0</th>\n",
       "      <td>7</td>\n",
       "      <td>Design Thinking for innovation reflexion-Avril...</td>\n",
       "      <td>[Design, Thinking, for, innovation, reflexion,...</td>\n",
       "      <td>[True, True, True, True, False, False, True, F...</td>\n",
       "      <td>[O, O, O, O, O, O, O, O, O, B-NAME_STUDENT, I-...</td>\n",
       "    </tr>\n",
       "    <tr>\n",
       "      <th>1</th>\n",
       "      <td>10</td>\n",
       "      <td>Diego Estrada\\n\\nDesign Thinking Assignment\\n\\...</td>\n",
       "      <td>[Diego, Estrada, \\n\\n, Design, Thinking, Assig...</td>\n",
       "      <td>[True, False, False, True, True, False, False,...</td>\n",
       "      <td>[B-NAME_STUDENT, I-NAME_STUDENT, O, O, O, O, O...</td>\n",
       "    </tr>\n",
       "    <tr>\n",
       "      <th>2</th>\n",
       "      <td>16</td>\n",
       "      <td>Reporting process\\n\\nby Gilberto Gamboa\\n\\nCha...</td>\n",
       "      <td>[Reporting, process, \\n\\n, by, Gilberto, Gambo...</td>\n",
       "      <td>[True, False, False, True, True, False, False,...</td>\n",
       "      <td>[O, O, O, O, B-NAME_STUDENT, I-NAME_STUDENT, O...</td>\n",
       "    </tr>\n",
       "    <tr>\n",
       "      <th>3</th>\n",
       "      <td>20</td>\n",
       "      <td>Design Thinking for Innovation\\n\\nSindy Samaca...</td>\n",
       "      <td>[Design, Thinking, for, Innovation, \\n\\n, Sind...</td>\n",
       "      <td>[True, True, True, False, False, True, False, ...</td>\n",
       "      <td>[O, O, O, O, O, B-NAME_STUDENT, I-NAME_STUDENT...</td>\n",
       "    </tr>\n",
       "    <tr>\n",
       "      <th>4</th>\n",
       "      <td>56</td>\n",
       "      <td>Assignment:  Visualization Reflection  Submitt...</td>\n",
       "      <td>[Assignment, :,   , Visualization,  , Reflecti...</td>\n",
       "      <td>[False, False, False, False, False, False, Fal...</td>\n",
       "      <td>[O, O, O, O, O, O, O, O, O, O, O, O, B-NAME_ST...</td>\n",
       "    </tr>\n",
       "  </tbody>\n",
       "</table>\n",
       "</div>"
      ],
      "text/plain": [
       "   document                                          full_text  \\\n",
       "0         7  Design Thinking for innovation reflexion-Avril...   \n",
       "1        10  Diego Estrada\\n\\nDesign Thinking Assignment\\n\\...   \n",
       "2        16  Reporting process\\n\\nby Gilberto Gamboa\\n\\nCha...   \n",
       "3        20  Design Thinking for Innovation\\n\\nSindy Samaca...   \n",
       "4        56  Assignment:  Visualization Reflection  Submitt...   \n",
       "\n",
       "                                              tokens  \\\n",
       "0  [Design, Thinking, for, innovation, reflexion,...   \n",
       "1  [Diego, Estrada, \\n\\n, Design, Thinking, Assig...   \n",
       "2  [Reporting, process, \\n\\n, by, Gilberto, Gambo...   \n",
       "3  [Design, Thinking, for, Innovation, \\n\\n, Sind...   \n",
       "4  [Assignment, :,   , Visualization,  , Reflecti...   \n",
       "\n",
       "                                 trailing_whitespace  \\\n",
       "0  [True, True, True, True, False, False, True, F...   \n",
       "1  [True, False, False, True, True, False, False,...   \n",
       "2  [True, False, False, True, True, False, False,...   \n",
       "3  [True, True, True, False, False, True, False, ...   \n",
       "4  [False, False, False, False, False, False, Fal...   \n",
       "\n",
       "                                              labels  \n",
       "0  [O, O, O, O, O, O, O, O, O, B-NAME_STUDENT, I-...  \n",
       "1  [B-NAME_STUDENT, I-NAME_STUDENT, O, O, O, O, O...  \n",
       "2  [O, O, O, O, B-NAME_STUDENT, I-NAME_STUDENT, O...  \n",
       "3  [O, O, O, O, O, B-NAME_STUDENT, I-NAME_STUDENT...  \n",
       "4  [O, O, O, O, O, O, O, O, O, O, O, O, B-NAME_ST...  "
      ]
     },
     "execution_count": 2,
     "metadata": {},
     "output_type": "execute_result"
    }
   ],
   "source": [
    "import pandas as pd\n",
    "\n",
    "\n",
    "json_file_path = 'data/pii-detection-removal-from-educational-data/train.json'\n",
    "train_df = pd.read_json(json_file_path)\n",
    "\n",
    "train_df.head()"
   ]
  },
  {
   "cell_type": "code",
   "execution_count": 3,
   "metadata": {},
   "outputs": [
    {
     "name": "stdout",
     "output_type": "stream",
     "text": [
      "<class 'pandas.core.frame.DataFrame'>\n",
      "Index: 6807 entries, 0 to 6806\n",
      "Data columns (total 5 columns):\n",
      " #   Column               Non-Null Count  Dtype \n",
      "---  ------               --------------  ----- \n",
      " 0   document             6807 non-null   int64 \n",
      " 1   full_text            6807 non-null   object\n",
      " 2   tokens               6807 non-null   object\n",
      " 3   trailing_whitespace  6807 non-null   object\n",
      " 4   labels               6807 non-null   object\n",
      "dtypes: int64(1), object(4)\n",
      "memory usage: 319.1+ KB\n"
     ]
    }
   ],
   "source": [
    "train_df.info()"
   ]
  },
  {
   "cell_type": "code",
   "execution_count": 4,
   "metadata": {},
   "outputs": [
    {
     "data": {
      "text/plain": [
       "(753, 563)"
      ]
     },
     "execution_count": 4,
     "metadata": {},
     "output_type": "execute_result"
    }
   ],
   "source": [
    "len(train_df.labels[0]), len(train_df.labels[1])"
   ]
  },
  {
   "cell_type": "code",
   "execution_count": 5,
   "metadata": {},
   "outputs": [
    {
     "data": {
      "text/plain": [
       "(753, 563)"
      ]
     },
     "execution_count": 5,
     "metadata": {},
     "output_type": "execute_result"
    }
   ],
   "source": [
    "len(train_df.tokens[0]), len(train_df.tokens[1])"
   ]
  },
  {
   "cell_type": "code",
   "execution_count": 6,
   "metadata": {},
   "outputs": [
    {
     "data": {
      "text/plain": [
       "(6807, 5)"
      ]
     },
     "execution_count": 6,
     "metadata": {},
     "output_type": "execute_result"
    }
   ],
   "source": [
    "train_df.shape"
   ]
  },
  {
   "cell_type": "code",
   "execution_count": 7,
   "metadata": {},
   "outputs": [
    {
     "data": {
      "text/plain": [
       "labels\n",
       "[O, O, O, O, O, O, O, O, O, O, O, O, O, O, O, O, O, O, O, O, O, O, O, O, O, O, O, O, O, O, O, O, O, O, O, O, O, O, O, O, O, O, O, O, O, O, O, O, O, O, O, O, O, O, O, O, O, O, O, O, O, O, O, O, O, O, O, O, O, O, O, O, O, O, O, O, O, O, O, O, O, O, O, O, O, O, O, O, O, O, O, O, O, O, O, O, O, O, O, O, ...]                                                          20\n",
       "[O, O, O, O, O, O, O, O, O, O, O, O, O, O, O, O, O, O, O, O, O, O, O, O, O, O, O, O, O, O, O, O, O, O, O, O, O, O, O, O, O, O, O, O, O, O, O, O, O, O, O, O, O, O, O, O, O, O, O, O, O, O, O, O, O, O, O, O, O, O, O, O, O, O, O, O, O, O, O, O, O, O, O, O, O, O, O, O, O, O, O, O, O, O, O, O, O, O, O, O, ...]                                                          19\n",
       "[O, O, O, O, O, O, O, O, O, O, O, O, O, O, O, O, O, O, O, O, O, O, O, O, O, O, O, O, O, O, O, O, O, O, O, O, O, O, O, O, O, O, O, O, O, O, O, O, O, O, O, O, O, O, O, O, O, O, O, O, O, O, O, O, O, O, O, O, O, O, O, O, O, O, O, O, O, O, O, O, O, O, O, O, O, O, O, O, O, O, O, O, O, O, O, O, O, O, O, O, ...]                                                          17\n",
       "[O, O, O, O, O, O, O, O, O, O, O, O, O, O, O, O, O, O, O, O, O, O, O, O, O, O, O, O, O, O, O, O, O, O, O, O, O, O, O, O, O, O, O, O, O, O, O, O, O, O, O, O, O, O, O, O, O, O, O, O, O, O, O, O, O, O, O, O, O, O, O, O, O, O, O, O, O, O, O, O, O, O, O, O, O, O, O, O, O, O, O, O, O, O, O, O, O, O, O, O, ...]                                                          17\n",
       "[O, O, O, O, O, O, O, O, O, O, O, O, O, O, O, O, O, O, O, O, O, O, O, O, O, O, O, O, O, O, O, O, O, O, O, O, O, O, O, O, O, O, O, O, O, O, O, O, O, O, O, O, O, O, O, O, O, O, O, O, O, O, O, O, O, O, O, O, O, O, O, O, O, O, O, O, O, O, O, O, O, O, O, O, O, O, O, O, O, O, O, O, O, O, O, O, O, O, O, O, ...]                                                          16\n",
       "                                                                                                                                                                                                                                                                                                                                                                           ..\n",
       "[O, O, O, O, O, O, O, O, O, O, O, O, O, O, O, O, O, O, O, O, O, O, O, O, O, O, O, O, O, O, O, O, O, O, O, O, O, O, O, O, O, O, O, O, O, O, O, O, O, O, O, O, O, O, O, O, O, O, O, O, O, O, O, O, O, O, O, O, O, O, O, O, O, O, O, O, O, O, O, O, O, O, O, O, O, O, O, O, O, O, O, O, O, O, O, O, O, O, O, O, ...]                                                           1\n",
       "[B-NAME_STUDENT, I-NAME_STUDENT, I-NAME_STUDENT, O, B-EMAIL, O, O, O, B-USERNAME, O, O, O, O, O, O, O, O, O, O, O, O, O, O, O, O, O, O, O, O, O, O, O, O, O, O, O, O, O, O, O, O, O, O, O, O, O, O, O, O, O, O, O, O, O, O, O, O, O, O, O, O, O, O, O, O, O, O, O, O, O, O, O, O, O, O, O, O, O, O, O, O, O, O, O, O, O, O, O, O, O, O, O, O, O, O, O, O, O, O, O, ...]     1\n",
       "[B-NAME_STUDENT, I-NAME_STUDENT, O, O, O, O, O, O, O, O, O, O, O, O, O, O, O, O, O, O, O, O, O, O, O, O, O, O, O, O, O, O, O, O, O, O, O, O, O, O, O, O, O, O, O, O, O, O, O, O, O, O, O, O, O, O, O, O, O, O, O, O, O, O, O, O, O, O, O, O, O, O, O, O, O, O, O, O, O, O, O, O, O, O, O, O, O, O, O, O, O, O, O, O, O, O, O, O, O, O, ...]                                 1\n",
       "[O, O, O, O, O, O, O, O, O, B-NAME_STUDENT, I-NAME_STUDENT, I-NAME_STUDENT, O, O, O, O, O, O, O, O, O, O, O, O, O, O, O, O, O, O, O, O, O, O, O, O, O, O, O, O, O, O, O, O, O, O, O, O, O, O, O, O, O, O, O, O, O, O, O, O, O, O, O, O, O, O, O, O, O, O, O, O, O, O, O, O, O, O, O, O, O, O, O, O, O, O, O, O, O, O, O, O, O, O, O, O, O, O, O, O, ...]                    1\n",
       "[O, O, O, O, O, O, O, O, O, O, O, O, O, O, O, O, O, O, O, O, O, O, O, O, O, O, O, O, O, O, O, O, O, O, O, O, O, O, O, O, O, O, O, O, O, O, O, O, O, O, O, O, O, O, O, O, O, O, O, O, O, O, O, O, O, O, O, O, O, O, O, O, O, O, O, O, O, O, O, O, O, O, O, O, O, O, O, O, O, O, O, O, O, O, O, O, O, O, O, O, ...]                                                           1\n",
       "Name: count, Length: 2221, dtype: int64"
      ]
     },
     "execution_count": 7,
     "metadata": {},
     "output_type": "execute_result"
    }
   ],
   "source": [
    "train_df.labels.value_counts()"
   ]
  },
  {
   "cell_type": "code",
   "execution_count": 8,
   "metadata": {},
   "outputs": [],
   "source": [
    "df_exploded = train_df.explode('labels')\n"
   ]
  },
  {
   "cell_type": "code",
   "execution_count": 9,
   "metadata": {},
   "outputs": [
    {
     "name": "stdout",
     "output_type": "stream",
     "text": [
      "labels\n",
      "O                   4989794\n",
      "B-NAME_STUDENT         1365\n",
      "I-NAME_STUDENT         1096\n",
      "B-URL_PERSONAL          110\n",
      "B-ID_NUM                 78\n",
      "B-EMAIL                  39\n",
      "I-STREET_ADDRESS         20\n",
      "I-PHONE_NUM              15\n",
      "B-USERNAME                6\n",
      "B-PHONE_NUM               6\n",
      "B-STREET_ADDRESS          2\n",
      "I-URL_PERSONAL            1\n",
      "I-ID_NUM                  1\n",
      "Name: count, dtype: int64\n"
     ]
    }
   ],
   "source": [
    "# Count the occurrences of each unique string\n",
    "label_counts = df_exploded['labels'].value_counts()\n",
    "\n",
    "# Display the counts\n",
    "print(label_counts)"
   ]
  },
  {
   "cell_type": "code",
   "execution_count": 10,
   "metadata": {},
   "outputs": [
    {
     "data": {
      "text/plain": [
       "13"
      ]
     },
     "execution_count": 10,
     "metadata": {},
     "output_type": "execute_result"
    }
   ],
   "source": [
    "len(label_counts)"
   ]
  },
  {
   "cell_type": "code",
   "execution_count": 11,
   "metadata": {},
   "outputs": [
    {
     "data": {
      "text/plain": [
       "['O',\n",
       " 'B-NAME_STUDENT',\n",
       " 'I-NAME_STUDENT',\n",
       " 'B-URL_PERSONAL',\n",
       " 'B-ID_NUM',\n",
       " 'B-EMAIL',\n",
       " 'I-STREET_ADDRESS',\n",
       " 'I-PHONE_NUM',\n",
       " 'B-USERNAME',\n",
       " 'B-PHONE_NUM',\n",
       " 'B-STREET_ADDRESS',\n",
       " 'I-URL_PERSONAL',\n",
       " 'I-ID_NUM']"
      ]
     },
     "execution_count": 11,
     "metadata": {},
     "output_type": "execute_result"
    }
   ],
   "source": [
    "label_counts.index.tolist()"
   ]
  },
  {
   "cell_type": "code",
   "execution_count": 12,
   "metadata": {},
   "outputs": [],
   "source": [
    "%%capture\n",
    "%pip install matplotlib"
   ]
  },
  {
   "cell_type": "code",
   "execution_count": 13,
   "metadata": {},
   "outputs": [
    {
     "data": {
      "image/png": "[encoded data removed]",
      "text/plain": [
       "<Figure size 640x480 with 1 Axes>"
      ]
     },
     "metadata": {},
     "output_type": "display_data"
    }
   ],
   "source": [
    "import matplotlib.pyplot as plt\n",
    "\n",
    "# label_counts.plot(kind='bar')\n",
    "# plot the counts for the labels excluding'O'\n",
    "_label_counts = label_counts.tail(-1)\n",
    "_label_counts.plot(kind='bar')\n",
    "\n",
    "# set plot labels and title\n",
    "plt.xlabel('Labels')\n",
    "plt.ylabel('Count')\n",
    "plt.title('Count of Each Unique Label')\n",
    "\n",
    "# display the plot\n",
    "plt.show()\n"
   ]
  },
  {
   "cell_type": "code",
   "execution_count": 14,
   "metadata": {},
   "outputs": [
    {
     "data": {
      "text/plain": [
       "\"Design Thinking for innovation reflexion-Avril 2021-Nathalie Sylla\\n\\nChallenge & selection\\n\\nThe tool I use to help all stakeholders finding their way through the complexity of a project is the  mind map.\\n\\nWhat exactly is a mind map? According to the definition of Buzan T. and Buzan B. (1999, Dessine-moi  l'intelligence. Paris: Les Éditions d'Organisation.), the mind map (or heuristic diagram) is a graphic  representation technique that follows the natural functioning of the mind and allows the brain's  potential to be released. Cf Annex1\\n\\nThis tool has many advantages:\\n\\n•  It is accessible to all and does not require significant material investment and can be done  quickly\\n\\n•  It is scalable\\n\\n•  It allows categorization and linking of information\\n\\n•  It can be applied to any type of situation: notetaking, problem solving, analysis, creation of  new ideas\\n\\n•  It is suitable for all people and is easy to learn\\n\\n•  It is fun and encourages exchanges\\n\\n•  It makes visible the dimension of projects, opportunities, interconnections\\n\\n•  It synthesizes\\n\\n•  It makes the project understandable\\n\\n•  It allows you to explore ideas\\n\\nThe creation of a mind map starts with an idea/problem located at its center. This starting point  generates ideas/work areas, incremented around this center in a radial structure, which in turn is  completed with as many branches as new ideas.\\n\\nThis tool enables creativity and logic to be mobilized, it is a map of the thoughts.\\n\\nCreativity is enhanced because participants feel comfortable with the method.\\n\\nApplication & Insight\\n\\nI start the process of the mind map creation with the stakeholders standing around a large board  (white or paper board). In the center of the board, I write and highlight the topic to design.\\n\\nThrough a series of questions, I guide the stakeholders in modelling the mind map. I adapt the series  of questions according to the topic to be addressed. In the type of questions, we can use: who, what,  when, where, why, how, how much.\\n\\nThe use of the “why” is very interesting to understand the origin. By this way, the interviewed person  frees itself from paradigms and thus dares to propose new ideas / ways of functioning. I plan two  hours for a workshop.\\n\\nDesign Thinking for innovation reflexion-Avril 2021-Nathalie Sylla\\n\\nAfter modelling the mind map on paper, I propose to the participants a digital visualization of their  work with the addition of color codes, images and interconnections. This second workshop also lasts  two hours and allows the mind map to evolve. Once familiarized with it, the stakeholders discover  the power of the tool. Then, the second workshop brings out even more ideas and constructive  exchanges between the stakeholders. Around this new mind map, they have learned to work  together and want to make visible the untold ideas.\\n\\nI now present all the projects I manage in this type of format in order to ease rapid understanding for  decision-makers. These presentations are the core of my business models. The decision-makers are  thus able to identify the opportunities of the projects and can take quick decisions to validate them.  They find answers to their questions thank to a schematic representation.\\n\\nApproach\\n\\nWhat I find amazing with the facilitation of this type of workshop is the participants commitment for  the project. This tool helps to give meaning. The participants appropriate the story and want to keep  writing it. Then, they easily become actors or sponsors of the project. A trust relationship is built,  thus facilitating the implementation of related actions.\\n\\nDesign Thinking for innovation reflexion-Avril 2021-Nathalie Sylla\\n\\nAnnex 1: Mind Map Shared facilities project\\n\\n\""
      ]
     },
     "execution_count": 14,
     "metadata": {},
     "output_type": "execute_result"
    }
   ],
   "source": [
    "train_df.full_text[0]"
   ]
  },
  {
   "cell_type": "code",
   "execution_count": 15,
   "metadata": {},
   "outputs": [
    {
     "data": {
      "text/plain": [
       "['O',\n",
       " 'O',\n",
       " 'O',\n",
       " 'O',\n",
       " 'O',\n",
       " 'O',\n",
       " 'O',\n",
       " 'O',\n",
       " 'O',\n",
       " 'B-NAME_STUDENT',\n",
       " 'I-NAME_STUDENT',\n",
       " 'O',\n",
       " 'O',\n",
       " 'O',\n",
       " 'O',\n",
       " 'O',\n",
       " 'O',\n",
       " 'O',\n",
       " 'O',\n",
       " 'O',\n",
       " 'O',\n",
       " 'O',\n",
       " 'O',\n",
       " 'O',\n",
       " 'O',\n",
       " 'O',\n",
       " 'O',\n",
       " 'O',\n",
       " 'O',\n",
       " 'O',\n",
       " 'O',\n",
       " 'O',\n",
       " 'O',\n",
       " 'O',\n",
       " 'O',\n",
       " 'O',\n",
       " 'O',\n",
       " 'O',\n",
       " 'O',\n",
       " 'O',\n",
       " 'O',\n",
       " 'O',\n",
       " 'O',\n",
       " 'O',\n",
       " 'O',\n",
       " 'O',\n",
       " 'O',\n",
       " 'O',\n",
       " 'O',\n",
       " 'O',\n",
       " 'O',\n",
       " 'O',\n",
       " 'O',\n",
       " 'O',\n",
       " 'O',\n",
       " 'O',\n",
       " 'O',\n",
       " 'O',\n",
       " 'O',\n",
       " 'O',\n",
       " 'O',\n",
       " 'O',\n",
       " 'O',\n",
       " 'O',\n",
       " 'O',\n",
       " 'O',\n",
       " 'O',\n",
       " 'O',\n",
       " 'O',\n",
       " 'O',\n",
       " 'O',\n",
       " 'O',\n",
       " 'O',\n",
       " 'O',\n",
       " 'O',\n",
       " 'O',\n",
       " 'O',\n",
       " 'O',\n",
       " 'O',\n",
       " 'O',\n",
       " 'O',\n",
       " 'O',\n",
       " 'O',\n",
       " 'O',\n",
       " 'O',\n",
       " 'O',\n",
       " 'O',\n",
       " 'O',\n",
       " 'O',\n",
       " 'O',\n",
       " 'O',\n",
       " 'O',\n",
       " 'O',\n",
       " 'O',\n",
       " 'O',\n",
       " 'O',\n",
       " 'O',\n",
       " 'O',\n",
       " 'O',\n",
       " 'O',\n",
       " 'O',\n",
       " 'O',\n",
       " 'O',\n",
       " 'O',\n",
       " 'O',\n",
       " 'O',\n",
       " 'O',\n",
       " 'O',\n",
       " 'O',\n",
       " 'O',\n",
       " 'O',\n",
       " 'O',\n",
       " 'O',\n",
       " 'O',\n",
       " 'O',\n",
       " 'O',\n",
       " 'O',\n",
       " 'O',\n",
       " 'O',\n",
       " 'O',\n",
       " 'O',\n",
       " 'O',\n",
       " 'O',\n",
       " 'O',\n",
       " 'O',\n",
       " 'O',\n",
       " 'O',\n",
       " 'O',\n",
       " 'O',\n",
       " 'O',\n",
       " 'O',\n",
       " 'O',\n",
       " 'O',\n",
       " 'O',\n",
       " 'O',\n",
       " 'O',\n",
       " 'O',\n",
       " 'O',\n",
       " 'O',\n",
       " 'O',\n",
       " 'O',\n",
       " 'O',\n",
       " 'O',\n",
       " 'O',\n",
       " 'O',\n",
       " 'O',\n",
       " 'O',\n",
       " 'O',\n",
       " 'O',\n",
       " 'O',\n",
       " 'O',\n",
       " 'O',\n",
       " 'O',\n",
       " 'O',\n",
       " 'O',\n",
       " 'O',\n",
       " 'O',\n",
       " 'O',\n",
       " 'O',\n",
       " 'O',\n",
       " 'O',\n",
       " 'O',\n",
       " 'O',\n",
       " 'O',\n",
       " 'O',\n",
       " 'O',\n",
       " 'O',\n",
       " 'O',\n",
       " 'O',\n",
       " 'O',\n",
       " 'O',\n",
       " 'O',\n",
       " 'O',\n",
       " 'O',\n",
       " 'O',\n",
       " 'O',\n",
       " 'O',\n",
       " 'O',\n",
       " 'O',\n",
       " 'O',\n",
       " 'O',\n",
       " 'O',\n",
       " 'O',\n",
       " 'O',\n",
       " 'O',\n",
       " 'O',\n",
       " 'O',\n",
       " 'O',\n",
       " 'O',\n",
       " 'O',\n",
       " 'O',\n",
       " 'O',\n",
       " 'O',\n",
       " 'O',\n",
       " 'O',\n",
       " 'O',\n",
       " 'O',\n",
       " 'O',\n",
       " 'O',\n",
       " 'O',\n",
       " 'O',\n",
       " 'O',\n",
       " 'O',\n",
       " 'O',\n",
       " 'O',\n",
       " 'O',\n",
       " 'O',\n",
       " 'O',\n",
       " 'O',\n",
       " 'O',\n",
       " 'O',\n",
       " 'O',\n",
       " 'O',\n",
       " 'O',\n",
       " 'O',\n",
       " 'O',\n",
       " 'O',\n",
       " 'O',\n",
       " 'O',\n",
       " 'O',\n",
       " 'O',\n",
       " 'O',\n",
       " 'O',\n",
       " 'O',\n",
       " 'O',\n",
       " 'O',\n",
       " 'O',\n",
       " 'O',\n",
       " 'O',\n",
       " 'O',\n",
       " 'O',\n",
       " 'O',\n",
       " 'O',\n",
       " 'O',\n",
       " 'O',\n",
       " 'O',\n",
       " 'O',\n",
       " 'O',\n",
       " 'O',\n",
       " 'O',\n",
       " 'O',\n",
       " 'O',\n",
       " 'O',\n",
       " 'O',\n",
       " 'O',\n",
       " 'O',\n",
       " 'O',\n",
       " 'O',\n",
       " 'O',\n",
       " 'O',\n",
       " 'O',\n",
       " 'O',\n",
       " 'O',\n",
       " 'O',\n",
       " 'O',\n",
       " 'O',\n",
       " 'O',\n",
       " 'O',\n",
       " 'O',\n",
       " 'O',\n",
       " 'O',\n",
       " 'O',\n",
       " 'O',\n",
       " 'O',\n",
       " 'O',\n",
       " 'O',\n",
       " 'O',\n",
       " 'O',\n",
       " 'O',\n",
       " 'O',\n",
       " 'O',\n",
       " 'O',\n",
       " 'O',\n",
       " 'O',\n",
       " 'O',\n",
       " 'O',\n",
       " 'O',\n",
       " 'O',\n",
       " 'O',\n",
       " 'O',\n",
       " 'O',\n",
       " 'O',\n",
       " 'O',\n",
       " 'O',\n",
       " 'O',\n",
       " 'O',\n",
       " 'O',\n",
       " 'O',\n",
       " 'O',\n",
       " 'O',\n",
       " 'O',\n",
       " 'O',\n",
       " 'O',\n",
       " 'O',\n",
       " 'O',\n",
       " 'O',\n",
       " 'O',\n",
       " 'O',\n",
       " 'O',\n",
       " 'O',\n",
       " 'O',\n",
       " 'O',\n",
       " 'O',\n",
       " 'O',\n",
       " 'O',\n",
       " 'O',\n",
       " 'O',\n",
       " 'O',\n",
       " 'O',\n",
       " 'O',\n",
       " 'O',\n",
       " 'O',\n",
       " 'O',\n",
       " 'O',\n",
       " 'O',\n",
       " 'O',\n",
       " 'O',\n",
       " 'O',\n",
       " 'O',\n",
       " 'O',\n",
       " 'O',\n",
       " 'O',\n",
       " 'O',\n",
       " 'O',\n",
       " 'O',\n",
       " 'O',\n",
       " 'O',\n",
       " 'O',\n",
       " 'O',\n",
       " 'O',\n",
       " 'O',\n",
       " 'O',\n",
       " 'O',\n",
       " 'O',\n",
       " 'O',\n",
       " 'O',\n",
       " 'O',\n",
       " 'O',\n",
       " 'O',\n",
       " 'O',\n",
       " 'O',\n",
       " 'O',\n",
       " 'O',\n",
       " 'O',\n",
       " 'O',\n",
       " 'O',\n",
       " 'O',\n",
       " 'O',\n",
       " 'O',\n",
       " 'O',\n",
       " 'O',\n",
       " 'O',\n",
       " 'O',\n",
       " 'O',\n",
       " 'O',\n",
       " 'O',\n",
       " 'O',\n",
       " 'O',\n",
       " 'O',\n",
       " 'O',\n",
       " 'O',\n",
       " 'O',\n",
       " 'O',\n",
       " 'O',\n",
       " 'O',\n",
       " 'O',\n",
       " 'O',\n",
       " 'O',\n",
       " 'O',\n",
       " 'O',\n",
       " 'O',\n",
       " 'O',\n",
       " 'O',\n",
       " 'O',\n",
       " 'O',\n",
       " 'O',\n",
       " 'O',\n",
       " 'O',\n",
       " 'O',\n",
       " 'O',\n",
       " 'O',\n",
       " 'O',\n",
       " 'O',\n",
       " 'O',\n",
       " 'O',\n",
       " 'O',\n",
       " 'O',\n",
       " 'O',\n",
       " 'O',\n",
       " 'O',\n",
       " 'O',\n",
       " 'O',\n",
       " 'O',\n",
       " 'O',\n",
       " 'O',\n",
       " 'O',\n",
       " 'O',\n",
       " 'O',\n",
       " 'O',\n",
       " 'O',\n",
       " 'O',\n",
       " 'O',\n",
       " 'O',\n",
       " 'O',\n",
       " 'O',\n",
       " 'O',\n",
       " 'O',\n",
       " 'O',\n",
       " 'O',\n",
       " 'O',\n",
       " 'O',\n",
       " 'O',\n",
       " 'O',\n",
       " 'O',\n",
       " 'O',\n",
       " 'O',\n",
       " 'O',\n",
       " 'O',\n",
       " 'O',\n",
       " 'O',\n",
       " 'O',\n",
       " 'O',\n",
       " 'O',\n",
       " 'O',\n",
       " 'O',\n",
       " 'O',\n",
       " 'O',\n",
       " 'O',\n",
       " 'O',\n",
       " 'O',\n",
       " 'O',\n",
       " 'O',\n",
       " 'O',\n",
       " 'O',\n",
       " 'O',\n",
       " 'O',\n",
       " 'O',\n",
       " 'O',\n",
       " 'O',\n",
       " 'O',\n",
       " 'O',\n",
       " 'O',\n",
       " 'O',\n",
       " 'O',\n",
       " 'O',\n",
       " 'O',\n",
       " 'O',\n",
       " 'O',\n",
       " 'O',\n",
       " 'O',\n",
       " 'O',\n",
       " 'O',\n",
       " 'O',\n",
       " 'O',\n",
       " 'O',\n",
       " 'O',\n",
       " 'O',\n",
       " 'O',\n",
       " 'O',\n",
       " 'O',\n",
       " 'O',\n",
       " 'O',\n",
       " 'O',\n",
       " 'O',\n",
       " 'O',\n",
       " 'O',\n",
       " 'O',\n",
       " 'O',\n",
       " 'O',\n",
       " 'O',\n",
       " 'O',\n",
       " 'O',\n",
       " 'O',\n",
       " 'O',\n",
       " 'O',\n",
       " 'O',\n",
       " 'O',\n",
       " 'O',\n",
       " 'O',\n",
       " 'O',\n",
       " 'O',\n",
       " 'O',\n",
       " 'B-NAME_STUDENT',\n",
       " 'I-NAME_STUDENT',\n",
       " 'O',\n",
       " 'O',\n",
       " 'O',\n",
       " 'O',\n",
       " 'O',\n",
       " 'O',\n",
       " 'O',\n",
       " 'O',\n",
       " 'O',\n",
       " 'O',\n",
       " 'O',\n",
       " 'O',\n",
       " 'O',\n",
       " 'O',\n",
       " 'O',\n",
       " 'O',\n",
       " 'O',\n",
       " 'O',\n",
       " 'O',\n",
       " 'O',\n",
       " 'O',\n",
       " 'O',\n",
       " 'O',\n",
       " 'O',\n",
       " 'O',\n",
       " 'O',\n",
       " 'O',\n",
       " 'O',\n",
       " 'O',\n",
       " 'O',\n",
       " 'O',\n",
       " 'O',\n",
       " 'O',\n",
       " 'O',\n",
       " 'O',\n",
       " 'O',\n",
       " 'O',\n",
       " 'O',\n",
       " 'O',\n",
       " 'O',\n",
       " 'O',\n",
       " 'O',\n",
       " 'O',\n",
       " 'O',\n",
       " 'O',\n",
       " 'O',\n",
       " 'O',\n",
       " 'O',\n",
       " 'O',\n",
       " 'O',\n",
       " 'O',\n",
       " 'O',\n",
       " 'O',\n",
       " 'O',\n",
       " 'O',\n",
       " 'O',\n",
       " 'O',\n",
       " 'O',\n",
       " 'O',\n",
       " 'O',\n",
       " 'O',\n",
       " 'O',\n",
       " 'O',\n",
       " 'O',\n",
       " 'O',\n",
       " 'O',\n",
       " 'O',\n",
       " 'O',\n",
       " 'O',\n",
       " 'O',\n",
       " 'O',\n",
       " 'O',\n",
       " 'O',\n",
       " 'O',\n",
       " 'O',\n",
       " 'O',\n",
       " 'O',\n",
       " 'O',\n",
       " 'O',\n",
       " 'O',\n",
       " 'O',\n",
       " 'O',\n",
       " 'O',\n",
       " 'O',\n",
       " 'O',\n",
       " 'O',\n",
       " 'O',\n",
       " 'O',\n",
       " 'O',\n",
       " 'O',\n",
       " 'O',\n",
       " 'O',\n",
       " 'O',\n",
       " 'O',\n",
       " 'O',\n",
       " 'O',\n",
       " 'O',\n",
       " 'O',\n",
       " 'O',\n",
       " 'O',\n",
       " 'O',\n",
       " 'O',\n",
       " 'O',\n",
       " 'O',\n",
       " 'O',\n",
       " 'O',\n",
       " 'O',\n",
       " 'O',\n",
       " 'O',\n",
       " 'O',\n",
       " 'O',\n",
       " 'O',\n",
       " 'O',\n",
       " 'O',\n",
       " 'O',\n",
       " 'O',\n",
       " 'O',\n",
       " 'O',\n",
       " 'O',\n",
       " 'O',\n",
       " 'O',\n",
       " 'O',\n",
       " 'O',\n",
       " 'O',\n",
       " 'O',\n",
       " 'O',\n",
       " 'O',\n",
       " 'O',\n",
       " 'O',\n",
       " 'O',\n",
       " 'O',\n",
       " 'O',\n",
       " 'O',\n",
       " 'O',\n",
       " 'O',\n",
       " 'O',\n",
       " 'O',\n",
       " 'O',\n",
       " 'O',\n",
       " 'O',\n",
       " 'O',\n",
       " 'O',\n",
       " 'O',\n",
       " 'O',\n",
       " 'O',\n",
       " 'O',\n",
       " 'O',\n",
       " 'O',\n",
       " 'O',\n",
       " 'O',\n",
       " 'O',\n",
       " 'O',\n",
       " 'O',\n",
       " 'O',\n",
       " 'O',\n",
       " 'O',\n",
       " 'O',\n",
       " 'O',\n",
       " 'O',\n",
       " 'O',\n",
       " 'O',\n",
       " 'O',\n",
       " 'O',\n",
       " 'O',\n",
       " 'O',\n",
       " 'O',\n",
       " 'O',\n",
       " 'O',\n",
       " 'O',\n",
       " 'O',\n",
       " 'O',\n",
       " 'O',\n",
       " 'O',\n",
       " 'O',\n",
       " 'O',\n",
       " 'O',\n",
       " 'O',\n",
       " 'O',\n",
       " 'O',\n",
       " 'O',\n",
       " 'O',\n",
       " 'O',\n",
       " 'O',\n",
       " 'O',\n",
       " 'O',\n",
       " 'O',\n",
       " 'O',\n",
       " 'O',\n",
       " 'O',\n",
       " 'O',\n",
       " 'O',\n",
       " 'O',\n",
       " 'O',\n",
       " 'O',\n",
       " 'O',\n",
       " 'O',\n",
       " 'O',\n",
       " 'O',\n",
       " 'O',\n",
       " 'O',\n",
       " 'O',\n",
       " 'O',\n",
       " 'O',\n",
       " 'O',\n",
       " 'O',\n",
       " 'O',\n",
       " 'O',\n",
       " 'O',\n",
       " 'O',\n",
       " 'O',\n",
       " 'O',\n",
       " 'O',\n",
       " 'O',\n",
       " 'O',\n",
       " 'O',\n",
       " 'O',\n",
       " 'O',\n",
       " 'O',\n",
       " 'O',\n",
       " 'O',\n",
       " 'O',\n",
       " 'O',\n",
       " 'O',\n",
       " 'O',\n",
       " 'O',\n",
       " 'O',\n",
       " 'O',\n",
       " 'O',\n",
       " 'O',\n",
       " 'O',\n",
       " 'O',\n",
       " 'O',\n",
       " 'O',\n",
       " 'O',\n",
       " 'O',\n",
       " 'O',\n",
       " 'O',\n",
       " 'O',\n",
       " 'O',\n",
       " 'O',\n",
       " 'O',\n",
       " 'O',\n",
       " 'O',\n",
       " 'O',\n",
       " 'O',\n",
       " 'O',\n",
       " 'O',\n",
       " 'O',\n",
       " 'O',\n",
       " 'O',\n",
       " 'O',\n",
       " 'O',\n",
       " 'O',\n",
       " 'O',\n",
       " 'O',\n",
       " 'O',\n",
       " 'O',\n",
       " 'B-NAME_STUDENT',\n",
       " 'I-NAME_STUDENT',\n",
       " 'O',\n",
       " 'O',\n",
       " 'O',\n",
       " 'O',\n",
       " 'O',\n",
       " 'O',\n",
       " 'O',\n",
       " 'O',\n",
       " 'O',\n",
       " 'O']"
      ]
     },
     "execution_count": 15,
     "metadata": {},
     "output_type": "execute_result"
    }
   ],
   "source": [
    "train_df.labels[0]"
   ]
  },
  {
   "cell_type": "code",
   "execution_count": 16,
   "metadata": {},
   "outputs": [
    {
     "data": {
      "text/html": [
       "<div>\n",
       "<style scoped>\n",
       "    .dataframe tbody tr th:only-of-type {\n",
       "        vertical-align: middle;\n",
       "    }\n",
       "\n",
       "    .dataframe tbody tr th {\n",
       "        vertical-align: top;\n",
       "    }\n",
       "\n",
       "    .dataframe thead th {\n",
       "        text-align: right;\n",
       "    }\n",
       "</style>\n",
       "<table border=\"1\" class=\"dataframe\">\n",
       "  <thead>\n",
       "    <tr style=\"text-align: right;\">\n",
       "      <th></th>\n",
       "      <th>0</th>\n",
       "      <th>1</th>\n",
       "      <th>2</th>\n",
       "      <th>3</th>\n",
       "      <th>4</th>\n",
       "      <th>5</th>\n",
       "      <th>6</th>\n",
       "      <th>7</th>\n",
       "      <th>8</th>\n",
       "      <th>9</th>\n",
       "      <th>10</th>\n",
       "      <th>11</th>\n",
       "      <th>12</th>\n",
       "      <th>13</th>\n",
       "      <th>14</th>\n",
       "    </tr>\n",
       "  </thead>\n",
       "  <tbody>\n",
       "    <tr>\n",
       "      <th>tokens</th>\n",
       "      <td>Design</td>\n",
       "      <td>Thinking</td>\n",
       "      <td>for</td>\n",
       "      <td>innovation</td>\n",
       "      <td>reflexion</td>\n",
       "      <td>-</td>\n",
       "      <td>Avril</td>\n",
       "      <td>2021</td>\n",
       "      <td>-</td>\n",
       "      <td>Nathalie</td>\n",
       "      <td>Sylla</td>\n",
       "      <td>\\n\\n</td>\n",
       "      <td>Challenge</td>\n",
       "      <td>&amp;</td>\n",
       "      <td>selection</td>\n",
       "    </tr>\n",
       "    <tr>\n",
       "      <th>labels</th>\n",
       "      <td>O</td>\n",
       "      <td>O</td>\n",
       "      <td>O</td>\n",
       "      <td>O</td>\n",
       "      <td>O</td>\n",
       "      <td>O</td>\n",
       "      <td>O</td>\n",
       "      <td>O</td>\n",
       "      <td>O</td>\n",
       "      <td>B-NAME_STUDENT</td>\n",
       "      <td>I-NAME_STUDENT</td>\n",
       "      <td>O</td>\n",
       "      <td>O</td>\n",
       "      <td>O</td>\n",
       "      <td>O</td>\n",
       "    </tr>\n",
       "  </tbody>\n",
       "</table>\n",
       "</div>"
      ],
      "text/plain": [
       "            0         1    2           3          4  5      6     7  8   \\\n",
       "tokens  Design  Thinking  for  innovation  reflexion  -  Avril  2021  -   \n",
       "labels       O         O    O           O          O  O      O     O  O   \n",
       "\n",
       "                    9               10    11         12 13         14  \n",
       "tokens        Nathalie           Sylla  \\n\\n  Challenge  &  selection  \n",
       "labels  B-NAME_STUDENT  I-NAME_STUDENT     O          O  O          O  "
      ]
     },
     "execution_count": 16,
     "metadata": {},
     "output_type": "execute_result"
    }
   ],
   "source": [
    "# inspect the labels and tokens \n",
    "row = 0\n",
    "tokens = train_df['tokens'][row]\n",
    "labels = train_df['labels'][row]\n",
    "df0 = pd.DataFrame({'tokens': tokens, 'labels': labels})\n",
    "df0[:15].T"
   ]
  },
  {
   "cell_type": "code",
   "execution_count": 17,
   "metadata": {},
   "outputs": [
    {
     "data": {
      "image/png": "[encoded data removed]",
      "text/plain": [
       "<Figure size 640x480 with 1 Axes>"
      ]
     },
     "metadata": {},
     "output_type": "display_data"
    }
   ],
   "source": [
    "# how long are the texts /tokens\n",
    "train_df['num_tokens'] = train_df['tokens'].apply(len)\n",
    "\n",
    "# Plot the box plot of list lengths\n",
    "plt.boxplot(train_df['num_tokens'], showfliers=False)\n",
    "\n",
    "# Set plot labels and title\n",
    "plt.xlabel('document tokenized')\n",
    "plt.ylabel('number of tokens')\n",
    "plt.title('Box Plot - number of tokens for each document')\n",
    "plt.show()"
   ]
  },
  {
   "cell_type": "code",
   "execution_count": 18,
   "metadata": {},
   "outputs": [
    {
     "data": {
      "text/plain": [
       "(6807, 1696)"
      ]
     },
     "execution_count": 18,
     "metadata": {},
     "output_type": "execute_result"
    }
   ],
   "source": [
    "# Count rows with token list length in the top quartile\n",
    "count_long_text = train_df[train_df['tokens'].apply(len) > 897].shape[0]\n",
    "len(train_df), count_long_text"
   ]
  },
  {
   "cell_type": "code",
   "execution_count": 19,
   "metadata": {},
   "outputs": [
    {
     "data": {
      "text/plain": [
       "(6807, 238)"
      ]
     },
     "execution_count": 19,
     "metadata": {},
     "output_type": "execute_result"
    }
   ],
   "source": [
    "# how many outliers?\n",
    "count_long_text = train_df[train_df['tokens'].apply(len) > 1400].shape[0]\n",
    "len(train_df), count_long_text\n",
    "\n",
    "# few outliers -> truncating the text will not influence results much\n",
    "# an idea would be to split long documents into shorter documents and treat these as independed docs ?"
   ]
  },
  {
   "cell_type": "code",
   "execution_count": 20,
   "metadata": {},
   "outputs": [
    {
     "data": {
      "image/png": "[encoded data removed]",
      "text/plain": [
       "<Figure size 640x480 with 1 Axes>"
      ]
     },
     "metadata": {},
     "output_type": "display_data"
    }
   ],
   "source": [
    "import matplotlib.pyplot as plt\n",
    "\n",
    "# Plot a histogram for the 'num_tokens' column\n",
    "plt.hist(train_df['num_tokens'], bins=10, edgecolor='black')\n",
    "plt.title('Histogram of num_tokens')\n",
    "plt.xlabel('Number of Tokens')\n",
    "plt.ylabel('Frequency')\n",
    "plt.show()\n",
    "\n",
    "# distribution of number of tokens is mildly left skewed \n",
    "# this means most texts are short (below 1000 tokens)\n",
    "# thus truncating the longer text will not result in that much information loss \n",
    "# (? still the dataset is small so idelaly we want to use all the info we have - split the long texts into shorter independent texts?)"
   ]
  },
  {
   "cell_type": "code",
   "execution_count": 21,
   "metadata": {},
   "outputs": [
    {
     "data": {
      "image/png": "[encoded data removed]",
      "text/plain": [
       "<Figure size 640x480 with 1 Axes>"
      ]
     },
     "metadata": {},
     "output_type": "display_data"
    }
   ],
   "source": [
    "# how long are the texts /tokens\n",
    "train_df['num_characters'] = train_df['full_text'].apply(len)\n",
    "\n",
    "# Plot the box plot of list lengths\n",
    "plt.boxplot(train_df['num_characters'], showfliers=True)\n",
    "\n",
    "# Set plot labels and title\n",
    "plt.xlabel('document full text')\n",
    "plt.ylabel('number of chars')\n",
    "plt.title('Box Plot - number of chars for each document')\n",
    "plt.show()"
   ]
  },
  {
   "cell_type": "markdown",
   "metadata": {},
   "source": [
    "Inspect how the labeles in the text\n"
   ]
  },
  {
   "cell_type": "code",
   "execution_count": 22,
   "metadata": {},
   "outputs": [
    {
     "data": {
      "text/plain": [
       "['O',\n",
       " 'B-NAME_STUDENT',\n",
       " 'I-NAME_STUDENT',\n",
       " 'B-URL_PERSONAL',\n",
       " 'B-ID_NUM',\n",
       " 'B-EMAIL',\n",
       " 'I-STREET_ADDRESS',\n",
       " 'I-PHONE_NUM',\n",
       " 'B-USERNAME',\n",
       " 'B-PHONE_NUM',\n",
       " 'B-STREET_ADDRESS',\n",
       " 'I-URL_PERSONAL',\n",
       " 'I-ID_NUM']"
      ]
     },
     "execution_count": 22,
     "metadata": {},
     "output_type": "execute_result"
    }
   ],
   "source": [
    "labels_list = label_counts.index.tolist()\n",
    "labels_list"
   ]
  },
  {
   "cell_type": "code",
   "execution_count": 23,
   "metadata": {},
   "outputs": [],
   "source": [
    "import random\n",
    "\n",
    "# dysplay the tokens and text for a random row\n",
    "def show_labeled_tokens(df, label, max_len=5):\n",
    "    # get the rows that have text containing personal urls\n",
    "    filtered_rows = df[df.apply(lambda row: label in row['labels'], axis=1)]\n",
    "    idx_list = filtered_rows.index  \n",
    "    print(f'{len(idx_list)} texts contain {label} labeled tokens\\n')\n",
    "    # get a random index from the list\n",
    "    idx = random.choice(idx_list)\n",
    "    target_list = df.loc[idx, 'labels']\n",
    "\n",
    "    # Get the index location of the label in the list - the begining of an address\n",
    "    index_location = target_list.index(label)\n",
    "    print(f'{label} starts at index: {index_location}\\n')\n",
    "    finish = index_location + max_len\n",
    "    print(f'TOKENS: {filtered_rows.tokens[idx][index_location:finish]}\\n\\n')\n",
    "    print('TEXT:\\n', ' '.join(filtered_rows.tokens[idx][index_location:finish]))\n",
    "    "
   ]
  },
  {
   "cell_type": "code",
   "execution_count": 24,
   "metadata": {},
   "outputs": [
    {
     "name": "stdout",
     "output_type": "stream",
     "text": [
      "891 texts contain B-NAME_STUDENT labeled tokens\n",
      "\n",
      "B-NAME_STUDENT starts at index: 0\n",
      "\n",
      "TOKENS: ['Fabio', '\\n\\n', 'Challenge', '     ', 'My']\n",
      "\n",
      "\n",
      "TEXT:\n",
      " Fabio \n",
      "\n",
      " Challenge       My\n"
     ]
    }
   ],
   "source": [
    "show_labeled_tokens(train_df,'B-NAME_STUDENT')"
   ]
  },
  {
   "cell_type": "code",
   "execution_count": 25,
   "metadata": {},
   "outputs": [
    {
     "name": "stdout",
     "output_type": "stream",
     "text": [
      "72 texts contain B-URL_PERSONAL labeled tokens\n",
      "\n",
      "B-URL_PERSONAL starts at index: 611\n",
      "\n",
      "TOKENS: ['https://www.jackson.com/list/explorehomepage.htm', '\\n\\n', 'Insight', '&', 'Approach']\n",
      "\n",
      "\n",
      "TEXT:\n",
      " https://www.jackson.com/list/explorehomepage.htm \n",
      "\n",
      " Insight & Approach\n"
     ]
    }
   ],
   "source": [
    "show_labeled_tokens(train_df,'B-URL_PERSONAL')"
   ]
  },
  {
   "cell_type": "code",
   "execution_count": 26,
   "metadata": {},
   "outputs": [
    {
     "name": "stdout",
     "output_type": "stream",
     "text": [
      "33 texts contain B-ID_NUM labeled tokens\n",
      "\n",
      "B-ID_NUM starts at index: 9\n",
      "\n",
      "TOKENS: ['932353568953', ' ', 'Product', ':', 'Hair', 'Dresser', '\\n\\n', 'Questionnaire', '\\n\\n', '(']\n",
      "\n",
      "\n",
      "TEXT:\n",
      " 932353568953   Product : Hair Dresser \n",
      "\n",
      " Questionnaire \n",
      "\n",
      " (\n"
     ]
    }
   ],
   "source": [
    "show_labeled_tokens(train_df, 'B-ID_NUM', max_len=10)"
   ]
  },
  {
   "cell_type": "code",
   "execution_count": 27,
   "metadata": {},
   "outputs": [
    {
     "name": "stdout",
     "output_type": "stream",
     "text": [
      "5 texts contain B-USERNAME labeled tokens\n",
      "\n",
      "B-USERNAME starts at index: 1\n",
      "\n",
      "TOKENS: ['meyermichelle', '\\n\\n', 'Reflection', '\\n\\n', 'The']\n",
      "\n",
      "\n",
      "TEXT:\n",
      " meyermichelle \n",
      "\n",
      " Reflection \n",
      "\n",
      " The\n"
     ]
    }
   ],
   "source": [
    "show_labeled_tokens(train_df, 'B-USERNAME')"
   ]
  },
  {
   "cell_type": "code",
   "execution_count": 28,
   "metadata": {},
   "outputs": [
    {
     "name": "stdout",
     "output_type": "stream",
     "text": [
      "2 texts contain B-STREET_ADDRESS labeled tokens\n",
      "\n",
      "B-STREET_ADDRESS starts at index: 3\n",
      "\n",
      "TOKENS: ['591', 'Smith', 'Centers', 'Apt', '.', '656', '\\n', 'Joshuamouth', ',', 'RI', '95963', '(', 'The', 'Netherlands', ')', ' ', '410.526.1667', ' ', 'vpi@mn.nl', '\\n\\n', 'Mind', 'Mapping', ',', '     ', 'Challenge']\n",
      "\n",
      "\n",
      "TEXT:\n",
      " 591 Smith Centers Apt . 656 \n",
      " Joshuamouth , RI 95963 ( The Netherlands )   410.526.1667   vpi@mn.nl \n",
      "\n",
      " Mind Mapping ,       Challenge\n"
     ]
    }
   ],
   "source": [
    "show_labeled_tokens(train_df, 'B-STREET_ADDRESS', max_len=25)"
   ]
  },
  {
   "cell_type": "code",
   "execution_count": 29,
   "metadata": {},
   "outputs": [
    {
     "name": "stdout",
     "output_type": "stream",
     "text": [
      "4 texts contain B-PHONE_NUM labeled tokens\n",
      "\n",
      "B-PHONE_NUM starts at index: 18\n",
      "\n",
      "TOKENS: ['(', '320)202', '-', '0688x95843', ' ', 'hwillis@gmail.com', ' ', 'www.adelaide.edu.au/writingcentre/', '\\n\\n', 'Mind']\n",
      "\n",
      "\n",
      "TEXT:\n",
      " ( 320)202 - 0688x95843   hwillis@gmail.com   www.adelaide.edu.au/writingcentre/ \n",
      "\n",
      " Mind\n"
     ]
    }
   ],
   "source": [
    "show_labeled_tokens(train_df, 'B-PHONE_NUM', max_len=10)"
   ]
  },
  {
   "cell_type": "code",
   "execution_count": 30,
   "metadata": {},
   "outputs": [
    {
     "name": "stdout",
     "output_type": "stream",
     "text": [
      "<class 'pandas.core.frame.DataFrame'>\n",
      "Index: 6807 entries, 0 to 6806\n",
      "Data columns (total 7 columns):\n",
      " #   Column               Non-Null Count  Dtype \n",
      "---  ------               --------------  ----- \n",
      " 0   document             6807 non-null   int64 \n",
      " 1   full_text            6807 non-null   object\n",
      " 2   tokens               6807 non-null   object\n",
      " 3   trailing_whitespace  6807 non-null   object\n",
      " 4   labels               6807 non-null   object\n",
      " 5   num_tokens           6807 non-null   int64 \n",
      " 6   num_characters       6807 non-null   int64 \n",
      "dtypes: int64(3), object(4)\n",
      "memory usage: 683.5+ KB\n"
     ]
    }
   ],
   "source": [
    "train_df.info()"
   ]
  },
  {
   "cell_type": "code",
   "execution_count": 31,
   "metadata": {},
   "outputs": [
    {
     "name": "stdout",
     "output_type": "stream",
     "text": [
      "<class 'pandas.core.frame.DataFrame'>\n",
      "Index: 6807 entries, 0 to 6806\n",
      "Data columns (total 2 columns):\n",
      " #   Column  Non-Null Count  Dtype \n",
      "---  ------  --------------  ----- \n",
      " 0   tokens  6807 non-null   object\n",
      " 1   labels  6807 non-null   object\n",
      "dtypes: object(2)\n",
      "memory usage: 417.6+ KB\n"
     ]
    }
   ],
   "source": [
    "# drop the columns we dont need\n",
    "# columns to drop\n",
    "columns_to_drop = ['document', 'full_text', 'trailing_whitespace', 'num_tokens', 'num_characters']\n",
    "train_df = train_df.drop(columns=columns_to_drop)\n",
    "train_df.info()"
   ]
  },
  {
   "cell_type": "code",
   "execution_count": 32,
   "metadata": {},
   "outputs": [
    {
     "data": {
      "text/html": [
       "<div>\n",
       "<style scoped>\n",
       "    .dataframe tbody tr th:only-of-type {\n",
       "        vertical-align: middle;\n",
       "    }\n",
       "\n",
       "    .dataframe tbody tr th {\n",
       "        vertical-align: top;\n",
       "    }\n",
       "\n",
       "    .dataframe thead th {\n",
       "        text-align: right;\n",
       "    }\n",
       "</style>\n",
       "<table border=\"1\" class=\"dataframe\">\n",
       "  <thead>\n",
       "    <tr style=\"text-align: right;\">\n",
       "      <th></th>\n",
       "      <th>tokens</th>\n",
       "      <th>labels</th>\n",
       "    </tr>\n",
       "  </thead>\n",
       "  <tbody>\n",
       "    <tr>\n",
       "      <th>0</th>\n",
       "      <td>[Design, Thinking, for, innovation, reflexion,...</td>\n",
       "      <td>[O, O, O, O, O, O, O, O, O, B-NAME_STUDENT, I-...</td>\n",
       "    </tr>\n",
       "    <tr>\n",
       "      <th>1</th>\n",
       "      <td>[Diego, Estrada, \\n\\n, Design, Thinking, Assig...</td>\n",
       "      <td>[B-NAME_STUDENT, I-NAME_STUDENT, O, O, O, O, O...</td>\n",
       "    </tr>\n",
       "  </tbody>\n",
       "</table>\n",
       "</div>"
      ],
      "text/plain": [
       "                                              tokens  \\\n",
       "0  [Design, Thinking, for, innovation, reflexion,...   \n",
       "1  [Diego, Estrada, \\n\\n, Design, Thinking, Assig...   \n",
       "\n",
       "                                              labels  \n",
       "0  [O, O, O, O, O, O, O, O, O, B-NAME_STUDENT, I-...  \n",
       "1  [B-NAME_STUDENT, I-NAME_STUDENT, O, O, O, O, O...  "
      ]
     },
     "execution_count": 32,
     "metadata": {},
     "output_type": "execute_result"
    }
   ],
   "source": [
    "train_df.head(2)"
   ]
  },
  {
   "cell_type": "code",
   "execution_count": 33,
   "metadata": {},
   "outputs": [
    {
     "data": {
      "text/plain": [
       "['O',\n",
       " 'B-NAME_STUDENT',\n",
       " 'I-NAME_STUDENT',\n",
       " 'B-URL_PERSONAL',\n",
       " 'B-ID_NUM',\n",
       " 'B-EMAIL',\n",
       " 'I-STREET_ADDRESS',\n",
       " 'I-PHONE_NUM',\n",
       " 'B-USERNAME',\n",
       " 'B-PHONE_NUM',\n",
       " 'B-STREET_ADDRESS',\n",
       " 'I-URL_PERSONAL',\n",
       " 'I-ID_NUM']"
      ]
     },
     "execution_count": 33,
     "metadata": {},
     "output_type": "execute_result"
    }
   ],
   "source": [
    "labels_list"
   ]
  },
  {
   "cell_type": "code",
   "execution_count": 34,
   "metadata": {},
   "outputs": [
    {
     "data": {
      "text/plain": [
       "'O'"
      ]
     },
     "execution_count": 34,
     "metadata": {},
     "output_type": "execute_result"
    }
   ],
   "source": [
    "train_df.loc[0].labels[0]"
   ]
  },
  {
   "cell_type": "code",
   "execution_count": 35,
   "metadata": {},
   "outputs": [
    {
     "data": {
      "text/html": [
       "<div>\n",
       "<style scoped>\n",
       "    .dataframe tbody tr th:only-of-type {\n",
       "        vertical-align: middle;\n",
       "    }\n",
       "\n",
       "    .dataframe tbody tr th {\n",
       "        vertical-align: top;\n",
       "    }\n",
       "\n",
       "    .dataframe thead th {\n",
       "        text-align: right;\n",
       "    }\n",
       "</style>\n",
       "<table border=\"1\" class=\"dataframe\">\n",
       "  <thead>\n",
       "    <tr style=\"text-align: right;\">\n",
       "      <th></th>\n",
       "      <th>tokens</th>\n",
       "      <th>labels</th>\n",
       "      <th>name_labels</th>\n",
       "    </tr>\n",
       "  </thead>\n",
       "  <tbody>\n",
       "    <tr>\n",
       "      <th>0</th>\n",
       "      <td>[Design, Thinking, for, innovation, reflexion,...</td>\n",
       "      <td>[O, O, O, O, O, O, O, O, O, B-NAME_STUDENT, I-...</td>\n",
       "      <td>[O, O, O, O, O, O, O, O, O, B-NAME_STUDENT, I-...</td>\n",
       "    </tr>\n",
       "    <tr>\n",
       "      <th>1</th>\n",
       "      <td>[Diego, Estrada, \\n\\n, Design, Thinking, Assig...</td>\n",
       "      <td>[B-NAME_STUDENT, I-NAME_STUDENT, O, O, O, O, O...</td>\n",
       "      <td>[B-NAME_STUDENT, I-NAME_STUDENT, O, O, O, O, O...</td>\n",
       "    </tr>\n",
       "  </tbody>\n",
       "</table>\n",
       "</div>"
      ],
      "text/plain": [
       "                                              tokens  \\\n",
       "0  [Design, Thinking, for, innovation, reflexion,...   \n",
       "1  [Diego, Estrada, \\n\\n, Design, Thinking, Assig...   \n",
       "\n",
       "                                              labels  \\\n",
       "0  [O, O, O, O, O, O, O, O, O, B-NAME_STUDENT, I-...   \n",
       "1  [B-NAME_STUDENT, I-NAME_STUDENT, O, O, O, O, O...   \n",
       "\n",
       "                                         name_labels  \n",
       "0  [O, O, O, O, O, O, O, O, O, B-NAME_STUDENT, I-...  \n",
       "1  [B-NAME_STUDENT, I-NAME_STUDENT, O, O, O, O, O...  "
      ]
     },
     "execution_count": 35,
     "metadata": {},
     "output_type": "execute_result"
    }
   ],
   "source": [
    "# We only need the names for longformer finetunining -> rename all other labels as Other?\n",
    "# all labels that are not names become 'O'\n",
    "names = ['B-NAME_STUDENT', 'I-NAME_STUDENT']\n",
    "name_labels_lists = []\n",
    "for lab_list in train_df.labels:\n",
    "    new_list = []\n",
    "    for label in lab_list:\n",
    "        if label in names:\n",
    "            new_list.append(label)\n",
    "        else:\n",
    "            new_list.append('O')\n",
    "    name_labels_lists.append(new_list)\n",
    "\n",
    "train_df['name_labels'] = name_labels_lists\n",
    "train_df.head(2)\n"
   ]
  },
  {
   "cell_type": "code",
   "execution_count": 36,
   "metadata": {},
   "outputs": [
    {
     "name": "stdout",
     "output_type": "stream",
     "text": [
      "labels\n",
      "O                   4989794\n",
      "B-NAME_STUDENT         1365\n",
      "I-NAME_STUDENT         1096\n",
      "B-URL_PERSONAL          110\n",
      "B-ID_NUM                 78\n",
      "B-EMAIL                  39\n",
      "I-STREET_ADDRESS         20\n",
      "I-PHONE_NUM              15\n",
      "B-USERNAME                6\n",
      "B-PHONE_NUM               6\n",
      "B-STREET_ADDRESS          2\n",
      "I-URL_PERSONAL            1\n",
      "I-ID_NUM                  1\n",
      "Name: count, dtype: int64\n"
     ]
    }
   ],
   "source": [
    "df_exploded = train_df.explode('labels')\n",
    "# Count the occurrences of each unique string\n",
    "label_counts = df_exploded['labels'].value_counts()\n",
    "\n",
    "# Display the counts\n",
    "print(label_counts)"
   ]
  },
  {
   "cell_type": "code",
   "execution_count": 37,
   "metadata": {},
   "outputs": [
    {
     "name": "stdout",
     "output_type": "stream",
     "text": [
      "name_labels\n",
      "O                 4990072\n",
      "B-NAME_STUDENT       1365\n",
      "I-NAME_STUDENT       1096\n",
      "Name: count, dtype: int64\n"
     ]
    }
   ],
   "source": [
    "df_exploded = train_df.explode('name_labels')\n",
    "# Count the occurrences of each unique string\n",
    "label_counts = df_exploded['name_labels'].value_counts()\n",
    "\n",
    "# Display the counts\n",
    "print(label_counts)\n",
    "\n",
    "# data is very imbalanced - first train the model on this for baseline"
   ]
  },
  {
   "cell_type": "code",
   "execution_count": 38,
   "metadata": {},
   "outputs": [
    {
     "name": "stdout",
     "output_type": "stream",
     "text": [
      "<class 'pandas.core.frame.DataFrame'>\n",
      "Index: 6807 entries, 0 to 6806\n",
      "Data columns (total 2 columns):\n",
      " #   Column       Non-Null Count  Dtype \n",
      "---  ------       --------------  ----- \n",
      " 0   tokens       6807 non-null   object\n",
      " 1   name_labels  6807 non-null   object\n",
      "dtypes: object(2)\n",
      "memory usage: 417.6+ KB\n"
     ]
    }
   ],
   "source": [
    "# drop the labels column as we dont need it for name NER\n",
    "train_df = train_df.drop(columns=['labels'])\n",
    "train_df.info()"
   ]
  },
  {
   "cell_type": "markdown",
   "metadata": {},
   "source": [
    "### Split train-validation NER data stratified \n",
    "-too complicated- revisit if needed later"
   ]
  },
  {
   "cell_type": "code",
   "execution_count": 43,
   "metadata": {},
   "outputs": [
    {
     "name": "stdout",
     "output_type": "stream",
     "text": [
      "Requirement already satisfied: deep_utils in ./.env/lib/python3.11/site-packages (1.3.21)\n",
      "Requirement already satisfied: numpy>=1.21.0 in ./.env/lib/python3.11/site-packages (from deep_utils) (1.26.4)\n",
      "Requirement already satisfied: requests>=2.27.1 in ./.env/lib/python3.11/site-packages (from deep_utils) (2.31.0)\n",
      "Requirement already satisfied: tqdm>=4.62.3 in ./.env/lib/python3.11/site-packages (from deep_utils) (4.66.2)\n",
      "Requirement already satisfied: charset-normalizer<4,>=2 in ./.env/lib/python3.11/site-packages (from requests>=2.27.1->deep_utils) (3.3.2)\n",
      "Requirement already satisfied: idna<4,>=2.5 in ./.env/lib/python3.11/site-packages (from requests>=2.27.1->deep_utils) (3.6)\n",
      "Requirement already satisfied: urllib3<3,>=1.21.1 in ./.env/lib/python3.11/site-packages (from requests>=2.27.1->deep_utils) (2.2.1)\n",
      "Requirement already satisfied: certifi>=2017.4.17 in ./.env/lib/python3.11/site-packages (from requests>=2.27.1->deep_utils) (2024.2.2)\n"
     ]
    }
   ],
   "source": [
    "# split the data into train and validation\n",
    "# normal sckit learn test_train_split does not work as both x and y contain lists :\n",
    "# (1) there are multiple entities, and also \n",
    "# (2) each sample has a different distribution of entities\n",
    "# solution:  https://datascience.stackexchange.com/questions/104785/how-to-perform-entity-level-train-val-test-split-for-ner-task\n",
    "!pip3 install deep_utils\n",
    "# from deep_utils import stratify_train_test_split_multi_label # this errors"
   ]
  },
  {
   "cell_type": "code",
   "execution_count": 44,
   "metadata": {},
   "outputs": [],
   "source": [
    "from typing import Union\n",
    "\n",
    "import numpy as np\n",
    "\n",
    "from deep_utils.utils.algorithm_utils.main import subset_sum\n",
    "\n",
    "\n",
    "def stratify_train_test_split_multi_label(\n",
    "    x: Union[list, tuple, np.ndarray], y: np.ndarray, test_size=0.2, closest_ratio=False\n",
    "):\n",
    "    \"\"\"\n",
    "        A handy function for splitting multi-label samples based on their number of classes. This is mainly useful for\n",
    "    object detection and ner-like tasks that each sample may contain several objects/tags from different classes! The\n",
    "    process of splitting starts from classes with the smallest number of samples to make sure their ratio is saved\n",
    "    because they have small numbers of samples, retaining the ratio for them is challenging compared to those classes\n",
    "    with more samples\n",
    "    :param x: A list, Tuple or ndarray that contains the samples\n",
    "    :param y: A 2D array that represents the number of labels in each class. Each column is representative of a class.\n",
    "    As an example: y = np.array([[2, 3], [1, 1]]) says that sample one has\n",
    "    two objects/tags for class 0 and 3 objects/tags for class 1 and so on\n",
    "    :param test_size: size of the test set\n",
    "    :param closest_ratio: For huge arrays extracting the closest ratio requires an intensive recursive function to work\n",
    "     which could result in maximum recursion error. Being set to True will choose samples from the those with the smallest difference to the target number to ensure the best ratio. Set this variable to True if you are sure. by default is set to False.\n",
    "    :return:\n",
    "    >>> y = np.array([[1, 2, 0], [1, 0, 0], [1, 2, 0]])\n",
    "    >>> x = np.array([[1, 1, 1], [2, 2, 2], [3, 3, 3]])\n",
    "    >>> stratify_train_test_split_multi_label(x, y, test_size=0.3)\n",
    "    (array([[2, 2, 2],\n",
    "           [3, 3, 3]]), array([[1, 1, 1]]), array([[1, 0, 0],\n",
    "           [1, 2, 0]]), array([[1, 2, 0]]))\n",
    "    >>> x = np.array([[1, 2], [3, 4], [1, 2], [3, 4], [1, 2], [3, 4], [1, 2], [3, 4]])\n",
    "    >>> y = np.array([[0, 0], [0, 0], [0, 1], [0, 1], [1, 1], [1, 1], [1, 0], [1, 0]])\n",
    "    >>> x_train, x_test, y_train, y_test = stratify_train_test_split_multi_label(x, y, test_size=0.5, closest_ratio=False)\n",
    "    >>> x_train\n",
    "    array([[1, 2],\n",
    "           [3, 4],\n",
    "           [1, 2],\n",
    "           [3, 4]])\n",
    "    >>> x_test\n",
    "    array([[1, 2],\n",
    "           [3, 4],\n",
    "           [1, 2],\n",
    "           [3, 4]])\n",
    "    >>> y_train\n",
    "    array([[0, 1],\n",
    "           [0, 1],\n",
    "           [1, 0],\n",
    "           [1, 0]])\n",
    "    >>> y_test\n",
    "    array([[1, 1],\n",
    "           [1, 1],\n",
    "           [0, 0],\n",
    "           [0, 0]])\n",
    "    >>> print(\"class ratio:\", tuple(y_test.sum(0) / y.sum(0)))\n",
    "    class ratio: (0.5, 0.5)\n",
    "    >>> print(\"sample ratio:\", y_test.shape[0] / y.shape[0])\n",
    "    sample ratio: 0.5\n",
    "    \"\"\"\n",
    "    assert len(y.shape) == 2, \"y should be 2D\"\n",
    "    assert test_size > 0.0, \"test_size cannot be a zero or negative value!\"\n",
    "    x = np.array(x, dtype=np.object_) if not isinstance(x, np.ndarray) else x\n",
    "\n",
    "    # excluding samples with no objects/tags\n",
    "    non_objects = np.any(y.sum(1) == 0)\n",
    "    if non_objects:\n",
    "        y_no_objects = y[y.sum(1) == 0]\n",
    "        x_no_objects = x[y.sum(1) == 0]\n",
    "        x = x[y.sum(1) > 0]\n",
    "        y = y[y.sum(1) > 0]\n",
    "\n",
    "    available_samples = np.ones((y.shape[0]), dtype=np.bool8)\n",
    "    test_samples = np.zeros((y.shape[0]), dtype=np.bool8)\n",
    "    train_samples = np.zeros((y.shape[0]), dtype=np.bool8)\n",
    "    class_sample_counts = y.sum(axis=0)\n",
    "    ideal_train_size = np.floor(sum(class_sample_counts) * (1 - test_size))\n",
    "\n",
    "    # stratify starts from a class with the lowest number of samples\n",
    "    class_indices = np.argsort(class_sample_counts)\n",
    "    for class_index in class_indices:\n",
    "        test_number_samples = y[:, class_index][test_samples].sum()\n",
    "        n_test = np.ceil(class_sample_counts[class_index] * test_size)\n",
    "        n_test = max(0, n_test - test_number_samples)\n",
    "        input_labels = y[:, class_index].copy()\n",
    "        input_labels[np.invert(available_samples)] = 0\n",
    "        if n_test == 0 or len(input_labels) == 0:\n",
    "            continue\n",
    "        if closest_ratio:\n",
    "            chosen_indices, *_ = subset_sum(\n",
    "                input_numbers=input_labels, target_number=n_test\n",
    "            )\n",
    "        else:\n",
    "            sorted_indices = np.argsort(input_labels)\n",
    "            cum_sum_values = np.cumsum(input_labels[sorted_indices])\n",
    "            chosen_indices = sorted_indices[cum_sum_values < n_test].tolist()\n",
    "            if len(chosen_indices) < len(sorted_indices):\n",
    "                chosen_indices.append(sorted_indices[len(chosen_indices)])\n",
    "        # Update available_samples, train_samples, test_samples\n",
    "        for update_index, n_label in enumerate(input_labels):\n",
    "            if n_label == 0:\n",
    "                # samples that have no elements are ignored ...\n",
    "                continue\n",
    "            if update_index in chosen_indices:\n",
    "                test_samples[update_index] = True\n",
    "                train_samples[update_index] = False\n",
    "            else:\n",
    "                test_samples[update_index] = False\n",
    "                train_samples[update_index] = True\n",
    "            available_samples[update_index] = False\n",
    "    # Allocating all the remaining samples to train because the code structure ensures the ratio of test\n",
    "    # samples to the whole dataset.\n",
    "    train_samples = np.bitwise_or(train_samples, np.bitwise_not(test_samples))\n",
    "\n",
    "    if non_objects:\n",
    "        # splitting samples with no objects trying to save the balance between train and test numbers\n",
    "\n",
    "        train_left = int(ideal_train_size - sum(train_samples))\n",
    "        indices = np.arange(len(y_no_objects))\n",
    "        np.random.shuffle(indices)\n",
    "\n",
    "        x_no_objects_train, y_no_objects_train = (\n",
    "            x_no_objects[:train_left],\n",
    "            y_no_objects[:train_left],\n",
    "        )\n",
    "        x_no_objects_test, y_no_objects_test = (\n",
    "            x_no_objects[train_left:],\n",
    "            y_no_objects[train_left:],\n",
    "        )\n",
    "\n",
    "        return (\n",
    "            np.concatenate([x[train_samples], x_no_objects_train]),\n",
    "            np.concatenate([x[test_samples], x_no_objects_test]),\n",
    "            np.concatenate([y[train_samples], y_no_objects_train]),\n",
    "            np.concatenate([y[test_samples], y_no_objects_test]),\n",
    "        )\n",
    "    else:\n",
    "        return x[train_samples], x[test_samples], y[train_samples], y[test_samples]\n",
    "    \n",
    "\n",
    "\n",
    "# for the function to work y needs to have int labels not strings\n",
    "# also it needs the tags lists to be the same size"
   ]
  },
  {
   "cell_type": "code",
   "execution_count": 45,
   "metadata": {},
   "outputs": [],
   "source": [
    "\n",
    "df = pd.DataFrame({\n",
    "    \"name_labels\": [[1, 2, 3], [3, 2, 1], [2, 1, 3], [1, 2, 3], [3, 1, 2], [2, 3, 1], [1, 3, 2], [3, 1, 2], [2, 3, 1], [1, 2, 3]],\n",
    "    \"tokens\": [[\"apple\", \"orange\", \"banana\"], [\"banana\", \"apple\", \"orange\"], [\"orange\", \"banana\", \"apple\"],\n",
    "               [\"apple\", \"orange\", \"banana\"], [\"banana\", \"apple\", \"orange\"], [\"orange\", \"banana\", \"apple\"],\n",
    "               [\"apple\", \"orange\", \"banana\"], [\"banana\", \"apple\", \"orange\"], [\"orange\", \"banana\", \"apple\"],\n",
    "               [\"apple\", \"orange\", \"banana\"]]\n",
    "})"
   ]
  },
  {
   "cell_type": "code",
   "execution_count": 46,
   "metadata": {},
   "outputs": [],
   "source": [
    "x_values = df[['tokens']].values\n",
    "x = np.array([[item for item in sublist[0]] for sublist in x_values])\n",
    "# Convert to Union[list, tuple, np.ndarray]\n",
    "# converted_x_values: Union[list, tuple, np.ndarray] = x_values.tolist()  # a list of lists\n",
    "# x = converted_x_values\n",
    "\n",
    "# convert y panadas object into a np array \n",
    "y_values = df[['name_labels']].values \n",
    "y = np.array([[item for item in sublist[0]] for sublist in y_values])"
   ]
  },
  {
   "cell_type": "code",
   "execution_count": 47,
   "metadata": {},
   "outputs": [
    {
     "name": "stderr",
     "output_type": "stream",
     "text": [
      "/var/folders/tf/50mx1bq91j7gsfdlgc40j37r0000gn/T/ipykernel_91613/1373813384.py:71: DeprecationWarning: `np.bool8` is a deprecated alias for `np.bool_`.  (Deprecated NumPy 1.24)\n",
      "  available_samples = np.ones((y.shape[0]), dtype=np.bool8)\n",
      "/var/folders/tf/50mx1bq91j7gsfdlgc40j37r0000gn/T/ipykernel_91613/1373813384.py:72: DeprecationWarning: `np.bool8` is a deprecated alias for `np.bool_`.  (Deprecated NumPy 1.24)\n",
      "  test_samples = np.zeros((y.shape[0]), dtype=np.bool8)\n",
      "/var/folders/tf/50mx1bq91j7gsfdlgc40j37r0000gn/T/ipykernel_91613/1373813384.py:73: DeprecationWarning: `np.bool8` is a deprecated alias for `np.bool_`.  (Deprecated NumPy 1.24)\n",
      "  train_samples = np.zeros((y.shape[0]), dtype=np.bool8)\n"
     ]
    }
   ],
   "source": [
    "x_train, x_validation, y_train, y_validation = stratify_train_test_split_multi_label(x, y, test_size=0.2,\n",
    "                                          closest_ratio=False)"
   ]
  },
  {
   "cell_type": "code",
   "execution_count": 48,
   "metadata": {},
   "outputs": [
    {
     "data": {
      "text/plain": [
       "((6, 3), (4, 3))"
      ]
     },
     "execution_count": 48,
     "metadata": {},
     "output_type": "execute_result"
    }
   ],
   "source": [
    "x_train.shape, x_validation.shape"
   ]
  },
  {
   "cell_type": "code",
   "execution_count": 49,
   "metadata": {},
   "outputs": [
    {
     "data": {
      "text/plain": [
       "(array([['banana', 'apple', 'orange'],\n",
       "        ['orange', 'banana', 'apple'],\n",
       "        ['banana', 'apple', 'orange'],\n",
       "        ['orange', 'banana', 'apple'],\n",
       "        ['banana', 'apple', 'orange'],\n",
       "        ['orange', 'banana', 'apple']], dtype='<U6'),\n",
       " array([['apple', 'orange', 'banana'],\n",
       "        ['apple', 'orange', 'banana'],\n",
       "        ['apple', 'orange', 'banana'],\n",
       "        ['apple', 'orange', 'banana']], dtype='<U6'))"
      ]
     },
     "execution_count": 49,
     "metadata": {},
     "output_type": "execute_result"
    }
   ],
   "source": [
    "x_train, x_validation"
   ]
  },
  {
   "cell_type": "code",
   "execution_count": 50,
   "metadata": {},
   "outputs": [
    {
     "data": {
      "text/plain": [
       "(array([[3, 2, 1],\n",
       "        [2, 1, 3],\n",
       "        [3, 1, 2],\n",
       "        [2, 3, 1],\n",
       "        [3, 1, 2],\n",
       "        [2, 3, 1]]),\n",
       " array([[1, 2, 3],\n",
       "        [1, 2, 3],\n",
       "        [1, 3, 2],\n",
       "        [1, 2, 3]]))"
      ]
     },
     "execution_count": 50,
     "metadata": {},
     "output_type": "execute_result"
    }
   ],
   "source": [
    "y_train, y_validation"
   ]
  },
  {
   "cell_type": "code",
   "execution_count": 51,
   "metadata": {},
   "outputs": [
    {
     "name": "stdout",
     "output_type": "stream",
     "text": [
      "tags\n",
      "3    6\n",
      "2    6\n",
      "1    6\n",
      "Name: count, dtype: int64\n"
     ]
    }
   ],
   "source": [
    "ydf =  pd.DataFrame({'tags': y_train.tolist()})\n",
    "yt_exploded = ydf.explode('tags')\n",
    "# Count the occurrences of each unique string\n",
    "lc= yt_exploded['tags'].value_counts()\n",
    "\n",
    "# Display the counts\n",
    "print(lc)"
   ]
  },
  {
   "cell_type": "code",
   "execution_count": 52,
   "metadata": {},
   "outputs": [
    {
     "name": "stdout",
     "output_type": "stream",
     "text": [
      "tags\n",
      "1    4\n",
      "2    4\n",
      "3    4\n",
      "Name: count, dtype: int64\n"
     ]
    }
   ],
   "source": [
    "ydf =  pd.DataFrame({'tags': y_validation.tolist()})\n",
    "yt_exploded = ydf.explode('tags')\n",
    "# Count the occurrences of each unique string\n",
    "lc= yt_exploded['tags'].value_counts()\n",
    "\n",
    "# Display the counts\n",
    "print(lc)"
   ]
  },
  {
   "cell_type": "markdown",
   "metadata": {},
   "source": [
    "### Split train-validation no stratification "
   ]
  },
  {
   "cell_type": "code",
   "execution_count": 53,
   "metadata": {},
   "outputs": [
    {
     "name": "stdout",
     "output_type": "stream",
     "text": [
      "<class 'pandas.core.frame.DataFrame'>\n",
      "Index: 6807 entries, 0 to 6806\n",
      "Data columns (total 2 columns):\n",
      " #   Column       Non-Null Count  Dtype \n",
      "---  ------       --------------  ----- \n",
      " 0   tokens       6807 non-null   object\n",
      " 1   name_labels  6807 non-null   object\n",
      "dtypes: object(2)\n",
      "memory usage: 417.6+ KB\n"
     ]
    }
   ],
   "source": [
    "train_df.info()"
   ]
  },
  {
   "cell_type": "code",
   "execution_count": 54,
   "metadata": {},
   "outputs": [
    {
     "name": "stdout",
     "output_type": "stream",
     "text": [
      "name_labels\n",
      "O                 4990072\n",
      "B-NAME_STUDENT       1365\n",
      "I-NAME_STUDENT       1096\n",
      "Name: count, dtype: int64\n"
     ]
    }
   ],
   "source": [
    "df_exploded = train_df.explode('name_labels')\n",
    "# Count the occurrences of each unique string\n",
    "label_counts = df_exploded['name_labels'].value_counts()\n",
    "\n",
    "# Display the counts\n",
    "print(label_counts)\n"
   ]
  },
  {
   "cell_type": "code",
   "execution_count": 55,
   "metadata": {},
   "outputs": [],
   "source": [
    "labels = ['O', 'B-NAME_STUDENT', 'I-NAME_STUDENT']"
   ]
  },
  {
   "cell_type": "code",
   "execution_count": 58,
   "metadata": {},
   "outputs": [],
   "source": [
    "%%capture\n",
    "!pip3 install scikit-learn"
   ]
  },
  {
   "cell_type": "code",
   "execution_count": 59,
   "metadata": {},
   "outputs": [],
   "source": [
    "# spliting stratified is complicated\n",
    "# split without stratification\n",
    "# this can be done also directly in huggingface datasets \n",
    "from sklearn.model_selection import train_test_split\n",
    "\n",
    "X_train, X_validation, y_train, y_validation = train_test_split(train_df['tokens'], train_df['name_labels'], test_size=0.2, random_state=42)\n"
   ]
  },
  {
   "cell_type": "code",
   "execution_count": 60,
   "metadata": {},
   "outputs": [],
   "source": [
    "traindata = pd.concat([X_train, y_train], axis=1)\n",
    "valdata = pd.concat([X_validation, y_validation], axis=1)"
   ]
  },
  {
   "cell_type": "code",
   "execution_count": 61,
   "metadata": {},
   "outputs": [
    {
     "data": {
      "text/html": [
       "<div>\n",
       "<style scoped>\n",
       "    .dataframe tbody tr th:only-of-type {\n",
       "        vertical-align: middle;\n",
       "    }\n",
       "\n",
       "    .dataframe tbody tr th {\n",
       "        vertical-align: top;\n",
       "    }\n",
       "\n",
       "    .dataframe thead th {\n",
       "        text-align: right;\n",
       "    }\n",
       "</style>\n",
       "<table border=\"1\" class=\"dataframe\">\n",
       "  <thead>\n",
       "    <tr style=\"text-align: right;\">\n",
       "      <th></th>\n",
       "      <th>tokens</th>\n",
       "      <th>name_labels</th>\n",
       "    </tr>\n",
       "  </thead>\n",
       "  <tbody>\n",
       "    <tr>\n",
       "      <th>1092</th>\n",
       "      <td>[Visualization, tool, to, control, Humidity, &amp;...</td>\n",
       "      <td>[O, O, O, O, O, O, O, O, O, O, O, O, O, O, O, ...</td>\n",
       "    </tr>\n",
       "    <tr>\n",
       "      <th>4750</th>\n",
       "      <td>[Visualization, \\n\\n, Challenge, and, selectio...</td>\n",
       "      <td>[O, O, O, O, O, O, O, O, O, O, O, O, O, O, O, ...</td>\n",
       "    </tr>\n",
       "  </tbody>\n",
       "</table>\n",
       "</div>"
      ],
      "text/plain": [
       "                                                 tokens  \\\n",
       "1092  [Visualization, tool, to, control, Humidity, &...   \n",
       "4750  [Visualization, \\n\\n, Challenge, and, selectio...   \n",
       "\n",
       "                                            name_labels  \n",
       "1092  [O, O, O, O, O, O, O, O, O, O, O, O, O, O, O, ...  \n",
       "4750  [O, O, O, O, O, O, O, O, O, O, O, O, O, O, O, ...  "
      ]
     },
     "execution_count": 61,
     "metadata": {},
     "output_type": "execute_result"
    }
   ],
   "source": [
    "traindata.head(2)"
   ]
  },
  {
   "cell_type": "code",
   "execution_count": 62,
   "metadata": {},
   "outputs": [
    {
     "data": {
      "text/html": [
       "<div>\n",
       "<style scoped>\n",
       "    .dataframe tbody tr th:only-of-type {\n",
       "        vertical-align: middle;\n",
       "    }\n",
       "\n",
       "    .dataframe tbody tr th {\n",
       "        vertical-align: top;\n",
       "    }\n",
       "\n",
       "    .dataframe thead th {\n",
       "        text-align: right;\n",
       "    }\n",
       "</style>\n",
       "<table border=\"1\" class=\"dataframe\">\n",
       "  <thead>\n",
       "    <tr style=\"text-align: right;\">\n",
       "      <th></th>\n",
       "      <th>tokens</th>\n",
       "      <th>name_labels</th>\n",
       "    </tr>\n",
       "  </thead>\n",
       "  <tbody>\n",
       "    <tr>\n",
       "      <th>4624</th>\n",
       "      <td>[Assignment, :, Mindmapping, \\n\\n, Challenge, ...</td>\n",
       "      <td>[O, O, O, O, O, O, O, O, O, O, O, O, O, O, O, ...</td>\n",
       "    </tr>\n",
       "    <tr>\n",
       "      <th>1740</th>\n",
       "      <td>[Reflection, –, Learning, Launch, \\n\\n, Paola,...</td>\n",
       "      <td>[O, O, O, O, O, B-NAME_STUDENT, I-NAME_STUDENT...</td>\n",
       "    </tr>\n",
       "  </tbody>\n",
       "</table>\n",
       "</div>"
      ],
      "text/plain": [
       "                                                 tokens  \\\n",
       "4624  [Assignment, :, Mindmapping, \\n\\n, Challenge, ...   \n",
       "1740  [Reflection, –, Learning, Launch, \\n\\n, Paola,...   \n",
       "\n",
       "                                            name_labels  \n",
       "4624  [O, O, O, O, O, O, O, O, O, O, O, O, O, O, O, ...  \n",
       "1740  [O, O, O, O, O, B-NAME_STUDENT, I-NAME_STUDENT...  "
      ]
     },
     "execution_count": 62,
     "metadata": {},
     "output_type": "execute_result"
    }
   ],
   "source": [
    "valdata.head(2)"
   ]
  },
  {
   "cell_type": "code",
   "execution_count": 63,
   "metadata": {},
   "outputs": [
    {
     "name": "stdout",
     "output_type": "stream",
     "text": [
      "name_labels\n",
      "O                 3984880\n",
      "B-NAME_STUDENT       1102\n",
      "I-NAME_STUDENT        852\n",
      "Name: count, dtype: int64\n"
     ]
    }
   ],
   "source": [
    "df_exploded = traindata.explode('name_labels')\n",
    "# Count the occurrences of each unique string\n",
    "label_counts = df_exploded['name_labels'].value_counts()\n",
    "\n",
    "# Display the counts\n",
    "print(label_counts)"
   ]
  },
  {
   "cell_type": "code",
   "execution_count": 64,
   "metadata": {},
   "outputs": [
    {
     "name": "stdout",
     "output_type": "stream",
     "text": [
      "name_labels\n",
      "O                 1005192\n",
      "B-NAME_STUDENT        263\n",
      "I-NAME_STUDENT        244\n",
      "Name: count, dtype: int64\n"
     ]
    }
   ],
   "source": [
    "df_exploded = valdata.explode('name_labels')\n",
    "# Count the occurrences of each unique string\n",
    "label_counts = df_exploded['name_labels'].value_counts()\n",
    "\n",
    "# Display the counts\n",
    "print(label_counts)"
   ]
  },
  {
   "cell_type": "markdown",
   "metadata": {},
   "source": [
    "# Fit the transformer model for NER \n",
    "on colab notebook: kaggle_pii_ner_colab_longfromer.ipynb"
   ]
  }
 ],
 "metadata": {
  "kernelspec": {
   "display_name": "Python 3",
   "language": "python",
   "name": "python3"
  },
  "language_info": {
   "codemirror_mode": {
    "name": "ipython",
    "version": 3
   },
   "file_extension": ".py",
   "mimetype": "text/x-python",
   "name": "python",
   "nbconvert_exporter": "python",
   "pygments_lexer": "ipython3",
   "version": "3.11.8"
  }
 },
 "nbformat": 4,
 "nbformat_minor": 2
}
